{
 "cells": [
  {
   "cell_type": "markdown",
   "id": "c7c2d364",
   "metadata": {},
   "source": [
    "## Anonymise ELAN files\n",
    "\n",
    "- This script searches all capitalised words in ELAN files and creates a replacement dictionary \n",
    "- The replacement dictionary is edited manually\n",
    "- The edited dictionary is used to replace the capitalised words in the files"
   ]
  },
  {
   "cell_type": "markdown",
   "id": "51241971",
   "metadata": {},
   "source": [
    "## install missing modules and import dependencies"
   ]
  },
  {
   "cell_type": "code",
   "execution_count": 2,
   "id": "4816d045",
   "metadata": {},
   "outputs": [
    {
     "name": "stdout",
     "output_type": "stream",
     "text": [
      "Requirement already satisfied: simplejson in c:\\users\\barth\\anaconda3\\lib\\site-packages (3.19.1)\n",
      "Requirement already satisfied: beautifulsoup4 in c:\\users\\barth\\anaconda3\\lib\\site-packages (4.11.1)\n",
      "Requirement already satisfied: soupsieve>1.2 in c:\\users\\barth\\anaconda3\\lib\\site-packages (from beautifulsoup4) (2.3.2.post1)\n"
     ]
    }
   ],
   "source": [
    "# install modules\n",
    "!pip install simplejson \n",
    "!pip install beautifulsoup4\n",
    "\n",
    "\n",
    "\n"
   ]
  },
  {
   "cell_type": "code",
   "execution_count": 2,
   "id": "21587be7",
   "metadata": {},
   "outputs": [
    {
     "name": "stdout",
     "output_type": "stream",
     "text": [
      "+++ Ready +++\n"
     ]
    }
   ],
   "source": [
    "import os\n",
    "import re\n",
    "import glob\n",
    "import json\n",
    "import datetime\n",
    "import traitlets\n",
    "import simplejson\n",
    "from bs4 import BeautifulSoup as bs\n",
    "import xml.etree.ElementTree as ET\n",
    "\n",
    "from ipywidgets import widgets\n",
    "from IPython.display import display\n",
    "from tkinter import Tk, filedialog\n",
    "\n",
    "\n",
    "class SelectFilesButton(widgets.Button):\n",
    "    \"\"\"A file widget that leverages tkinter.filedialog.\"\"\"\n",
    "\n",
    "    def __init__(self):\n",
    "        super(SelectFilesButton, self).__init__()\n",
    "        # Add the selected_files trait\n",
    "        self.add_traits(files=traitlets.traitlets.List())\n",
    "        # Create the button.\n",
    "        self.description = \"Select Files\"\n",
    "        self.icon = \"square-o\"\n",
    "        self.style.button_color = \"orange\"\n",
    "        # Set on click behavior.\n",
    "        self.on_click(self.select_files)\n",
    "\n",
    "    @staticmethod\n",
    "    def select_files(b):\n",
    "        \"\"\"Generate instance of tkinter.filedialog.\n",
    "\n",
    "        Parameters\n",
    "        ----------\n",
    "        b : obj:\n",
    "            An instance of ipywidgets.widgets.Button \n",
    "        \"\"\"\n",
    "        # Create Tk root\n",
    "        root = Tk()\n",
    "        # Hide the main window\n",
    "        root.withdraw()\n",
    "        # Raise the root to the top of all windows.\n",
    "        root.call('wm', 'attributes', '.', '-topmost', True)\n",
    "        # List of selected fileswill be set to b.value\n",
    "        b.files = filedialog.askopenfilename(multiple=True)\n",
    "\n",
    "        b.description = \"Files Selected\"\n",
    "        b.icon = \"check-square-o\"\n",
    "        b.style.button_color = \"lightgreen\"\n",
    "\n",
    "print(\"+++ Ready +++\")"
   ]
  },
  {
   "cell_type": "markdown",
   "id": "018ac768",
   "metadata": {},
   "source": [
    "## Select files and replacement dictionary, if there is an exiting one"
   ]
  },
  {
   "cell_type": "code",
   "execution_count": 3,
   "id": "e6d1af0e",
   "metadata": {},
   "outputs": [
    {
     "data": {
      "application/vnd.jupyter.widget-view+json": {
       "model_id": "2890b5fca1a64163a42746615714d30a",
       "version_major": 2,
       "version_minor": 0
      },
      "text/plain": [
       "SelectFilesButton(description='Select Files', icon='square-o', style=ButtonStyle(button_color='orange'))"
      ]
     },
     "metadata": {},
     "output_type": "display_data"
    }
   ],
   "source": [
    "my_button = SelectFilesButton()\n",
    "my_button # This will display the button in the context of the Notebook"
   ]
  },
  {
   "cell_type": "code",
   "execution_count": 4,
   "id": "72df63c6",
   "metadata": {},
   "outputs": [
    {
     "name": "stdout",
     "output_type": "stream",
     "text": [
      "['C:/Users/barth/Dropbox/CoE-LDaCA/Corpus_SydneySpeaks/Bcnt_AEF_065_Bernice.eaf', 'C:/Users/barth/Dropbox/CoE-LDaCA/Corpus_SydneySpeaks/Bcnt_AEF_073_Marjorie.eaf', 'C:/Users/barth/Dropbox/CoE-LDaCA/Corpus_SydneySpeaks/Bcnt_AEF_075_Agnes.eaf', 'C:/Users/barth/Dropbox/CoE-LDaCA/Corpus_SydneySpeaks/Bcnt_AEF_079_Gladys.eaf']\n"
     ]
    }
   ],
   "source": [
    "# In a different cell of the same Jupyter Notebook You can access the file list by using the following:\n",
    "files = my_button.files\n",
    "files = [ fi for fi in files if fi.endswith(\".eaf\") ]\n",
    "print (files)\n",
    "\n",
    "# out_path is where the anonymised files and the replacment dictionary will be stored\n",
    "out_path = \"/\".join(files[0].split(\"/\")[:-1]) + \"/\""
   ]
  },
  {
   "cell_type": "code",
   "execution_count": 5,
   "id": "6dc279de",
   "metadata": {},
   "outputs": [
    {
     "name": "stdout",
     "output_type": "stream",
     "text": [
      "+++ DONE +++\n"
     ]
    }
   ],
   "source": [
    "# load the replacement dictionary\n",
    "\n",
    "existing_dict = False\n",
    "\n",
    "#comment out the existing_dict below if you want to create a new replacement dictinary \n",
    "#existing_dict = r\"C:\\Users\\barth\\Documents\\LDACA\\jupyter_notebooks\\Anonymisation_ELAN\\replacements_2023_4_26_1125.json\"\n",
    "\n",
    "nameDict = {}\n",
    "if existing_dict:\n",
    "    with open(existing_dict, 'r', encoding=\"utf-8\") as f:\n",
    "        nameDict = json.load(f)\n",
    "        print(\"existing_dict loaded: \" + existing_dict)\n",
    "\n",
    "print (\"+++ DONE +++\")"
   ]
  },
  {
   "cell_type": "markdown",
   "id": "6f5c082f",
   "metadata": {},
   "source": [
    "## Find the capitalised words in the ELAN files"
   ]
  },
  {
   "cell_type": "code",
   "execution_count": 6,
   "id": "6e8716d3",
   "metadata": {},
   "outputs": [
    {
     "name": "stderr",
     "output_type": "stream",
     "text": [
      "C:\\Users\\barth\\anaconda3\\lib\\site-packages\\bs4\\builder\\__init__.py:545: XMLParsedAsHTMLWarning: It looks like you're parsing an XML document using an HTML parser. If this really is an HTML document (maybe it's XHTML?), you can ignore or filter this warning. If it's XML, you should know that using an XML parser will be more reliable. To parse this document as XML, make sure you have the lxml package installed, and pass the keyword argument `features=\"xml\"` into the BeautifulSoup constructor.\n",
      "  warnings.warn(\n"
     ]
    },
    {
     "name": "stdout",
     "output_type": "stream",
     "text": [
      " +++ DONE +++\n"
     ]
    }
   ],
   "source": [
    "lowerList = set([])\n",
    "tier = \"\"\n",
    "\n",
    "def add_to_lower_list(string):  # list of all lowercase words\n",
    "    for word in re.findall('([a-z]+)', string[1:]):\n",
    "        lowerList.add(word)\n",
    "\n",
    "    \n",
    "def distribute(annos, function):\n",
    "    for anno in annos:\n",
    "        \n",
    "        \n",
    "        if len(anno.contents) > 0:\n",
    "            for annotation in anno.contents:\n",
    "                function(annotation)\n",
    "\n",
    "                \n",
    "def find_context(string, word):\n",
    "    wordIndex = string.find(word)\n",
    "    contextString = string[max(0, wordIndex - 50) : wordIndex + 50]\n",
    "    \n",
    "    \"\"\"if wordIndex > 1:\n",
    "        contextString = \" \".join(contextString.split()[1:])\"\"\"\n",
    "\n",
    "    return contextString\n",
    "\n",
    "\n",
    "def pick_this_word(string, word):\n",
    "    \n",
    "    #tier = [p.get('tier_id') for p in string.find_all_previous(name = 'tier')][0]\n",
    "    tier = string.parent.parent.parent.parent[\"tier_id\"]\n",
    "    \n",
    "    if word.lower() not in lowerList:\n",
    "            \n",
    "        context  = find_context(string, word)\n",
    "\n",
    "        if word not in nameDict:\n",
    "            \n",
    "            nameDict[word] = {\"replace_as\": word, \"replace_at\": []}\n",
    "        \n",
    "        if context not in nameDict[word][\"replace_at\"]:\n",
    "            nameDict[word][\"replace_at\"].append([context, \"Yes\", basename, tier])\n",
    "              \n",
    "                \n",
    "def add_to_name_dict(string):\n",
    "    \n",
    "    # find all words with a capitalised first letter\n",
    "    for word in re.findall(r'\\b[A-Z][a-z]+\\b', string[:]):\n",
    "        pick_this_word(string, word)\n",
    "    \n",
    "    # find all ALLCAPS words\n",
    "    for word in re.findall(r'\\b[A-Z]+\\b', string[1:]): \n",
    "        pick_this_word(string, word)\n",
    "\n",
    "def multi_words(string):\n",
    "    \n",
    "    for word in re.findall('([A-Z][a-z]+(?=\\s[A-Z])(?:\\s[A-Z][a-z]+)+)', string[:]):\n",
    "        #print (word)\n",
    "        \n",
    "        pick_this_word(string, word)\n",
    "\n",
    "        \n",
    "def filter_redundence(nameDict):\n",
    "    fullList = []\n",
    "    newDict = dict(nameDict)\n",
    "    for k, v in nameDict.items():\n",
    "        fullList.append(k)\n",
    "    #print (fullList)\n",
    "    for k, v in nameDict.items():\n",
    "        for term in fullList:\n",
    "            if (k in term.split()) and (k != term):\n",
    "\n",
    "                for each in v[\"replace_at\"]:\n",
    "                    if term in each[0]:\n",
    "                        num = v[\"replace_at\"].index(each)\n",
    "                        del v[\"replace_at\"][num]\n",
    "\n",
    "    for k in list(nameDict.keys()):\n",
    "        if len(nameDict[k][\"replace_at\"]) == 0:\n",
    "            del nameDict[k]\n",
    "                        \n",
    "                    \n",
    "                        \n",
    "            \n",
    "        \n",
    "        \n",
    "\n",
    "    \"\"\"for each in v[\"replace_at\"]:\n",
    "        for term in fullList:\n",
    "            if term != k:\n",
    "                if \"\"\"\n",
    "\n",
    "\n",
    "\"\"\"def replace_quotes(string):\n",
    "    replacements = {0x2013: '--',\n",
    "                0x2014: '---',\n",
    "                0x201c: '\"',\n",
    "                0x201d: '\"',\n",
    "                0x2018: \"'\",\n",
    "                0x2019: \"'\",\n",
    "                0x2026: '...',\n",
    "                0xa0: ' '}\n",
    "\n",
    "    text = sys.stdin.read()\n",
    "    for r in replacements:\n",
    "        text = text.replace(chr(r), replacements[r])\"\"\"\n",
    "    \n",
    "        \n",
    "    \n",
    "        \n",
    "        \n",
    "for file in files:\n",
    "    with open(file, \"r\", encoding=\"utf-8\") as inf:\n",
    "        basename = os.path.basename(file)\n",
    "\n",
    "        soup = bs(inf, \"lxml\")\n",
    "\n",
    "        annos = soup.findAll(\"annotation_value\")\n",
    "\n",
    "        distribute(annos, add_to_lower_list)\n",
    "        \n",
    "        distribute(annos, add_to_name_dict)\n",
    "        \n",
    "        distribute(annos, multi_words)\n",
    "        \n",
    "        filter_redundence(nameDict)\n",
    "\n",
    "print (\" +++ DONE +++\")"
   ]
  },
  {
   "cell_type": "markdown",
   "id": "c8b0bdac",
   "metadata": {},
   "source": [
    "## Create new replacement dictionary"
   ]
  },
  {
   "cell_type": "code",
   "execution_count": 7,
   "id": "ced832b4",
   "metadata": {},
   "outputs": [
    {
     "name": "stdout",
     "output_type": "stream",
     "text": [
      "C:\\Users\\barth\\Documents\\LDACA\\jupyter_notebooks\\Anonymisation_ELAN\\replacements_2023_9_4_1151.json\n",
      "+++ DONE +++\n"
     ]
    }
   ],
   "source": [
    "# dir_path is the folder where all .eaf files are\n",
    "# out_path is the folder where the replacement dictionary will be stored\n",
    "\n",
    "\n",
    "#dir_path = \"C:\\\\Users\\\\barth\\\\Documents\\\\MFA\\\\my_corpus\\\\\"\n",
    "#outFile = \"C:\\\\Users\\\\barth\\\\Documents\\\\MFA\\\\my_corpus\\\\name_dictionary_per_item.json\"\n",
    "out_path = \"C:\\\\Users\\\\barth\\\\Documents\\\\LDACA\\\\jupyter_notebooks\\\\Anonymisation_ELAN\\\\\"\n",
    "\n",
    "YEAR        = datetime.date.today().year     # the current year\n",
    "MONTH       = datetime.date.today().month    # the current month\n",
    "DATE        = datetime.date.today().day      # the current day\n",
    "HOUR        = datetime.datetime.now().hour   # the current hour\n",
    "MINUTE      = datetime.datetime.now().minute # the current minute\n",
    "SECONDS     = datetime.datetime.now().second #the current second\n",
    "\n",
    "\n",
    "outFile = out_path + \"replacements_\" + str(YEAR) + \"_\" + str(MONTH) + \"_\" + str(DATE) + \"_\" + str(HOUR) + str(MINUTE) + \".json\"\n",
    "\n",
    "\n",
    "with open(outFile, \"w\", encoding=\"utf-8\") as outf:\n",
    "   outf.write(simplejson.dumps(nameDict, indent=4, sort_keys=True, ensure_ascii=False)) \n",
    "\n",
    "print (outFile)\n",
    "print(\"+++ DONE +++\")"
   ]
  },
  {
   "cell_type": "markdown",
   "id": "0817aceb",
   "metadata": {},
   "source": [
    "## Edit the replacment dictionary\n",
    "Manual step: Open the dictionary in notepad and make the changes you want:\n",
    "\n",
    "- \"change_as\": what the word should be changed into\n",
    "- \"change_at\": the instances where the word is found. Change \"Yes\" to \"No\" to exclude the instance\n",
    "\n",
    "## Load the edited dictionary and automatically change the ELAN files"
   ]
  },
  {
   "cell_type": "code",
   "execution_count": 9,
   "id": "11ed6b9a",
   "metadata": {},
   "outputs": [
    {
     "name": "stdout",
     "output_type": "stream",
     "text": [
      " +++ DONE: The replacement Dictionary got loaded +++\n"
     ]
    }
   ],
   "source": [
    "with open(outFile, \"r\", encoding=\"utf-8\") as inf:\n",
    "    replacementDict = json.load(inf)\n",
    "print (\" +++ DONE: The replacement Dictionary got loaded +++\")"
   ]
  },
  {
   "cell_type": "code",
   "execution_count": 10,
   "id": "adf1f7a8",
   "metadata": {},
   "outputs": [
    {
     "name": "stdout",
     "output_type": "stream",
     "text": [
      "C:/Users/barth/Documents/LDACA/jupyter_notebooks/Anonymisation_ELAN/test_data/AAE_MF_002_Stella.eaf\n",
      "AAE_MF_002_Stella_anon.eaf\n",
      "C:\\Users\\barth\\Documents\\LDACA\\jupyter_notebooks\\Anonymisation_ELAN\\test_data\n"
     ]
    }
   ],
   "source": [
    "import os\n",
    "from xml.etree import ElementTree as et\n",
    "\n",
    "for file in files:\n",
    "    print (file)\n",
    "    \n",
    "    path = os.path.dirname(os.path.abspath(file))\n",
    "    filename = os.path.basename(file)\n",
    "    newFilename = filename.split(\".\")[0] + \"_anon.eaf\" \n",
    "    print (newFilename)\n",
    "    print (path)\n",
    "    outFile = os.path.join(path, newFilename)\n",
    " \n",
    "    with open(file, \"r\", encoding=\"utf-8\") as inf:\n",
    "        tree = ET.parse(inf)\n",
    "        root = tree.getroot()\n",
    "        \n",
    "        \n",
    "        for each in root.iter('ANNOTATION_VALUE'):\n",
    "            if each.text and (len(each.text) > 0):\n",
    "                \n",
    "                # all changes have to be collected and then executed together\n",
    "                collectedChanges = {}\n",
    "                \n",
    "                for k, v in replacementDict.items():\n",
    "                    if k in each.text:\n",
    "                        \n",
    "                        replacement = v[\"replace_as\"]\n",
    "                        \n",
    "                        for changer in v[\"replace_at\"]:\n",
    "                            if (changer[0] in each.text) and (changer[1] == \"Yes\"):\n",
    "                                collectedChanges[k] = replacement\n",
    "                                \n",
    "                        \n",
    "                        \n",
    "                        \n",
    "                        \"\"\"for a, b in v[\"replace_at\"].items():\n",
    "                            \n",
    "                            if (a in each.text) and (b == \"Yes\"):\n",
    "                                    collectedChanges[k] = replacement\"\"\"\n",
    "\n",
    "                for old, new in collectedChanges.items():\n",
    "                    each.text = each.text.replace(old, new)\n",
    "\n",
    "    tree.write(outFile)"
   ]
  },
  {
   "cell_type": "markdown",
   "id": "b75028f7",
   "metadata": {},
   "source": [
    "The files should now be stored in the same folder as the originals"
   ]
  },
  {
   "cell_type": "code",
   "execution_count": null,
   "id": "a95a2aab",
   "metadata": {},
   "outputs": [],
   "source": []
  }
 ],
 "metadata": {
  "kernelspec": {
   "display_name": "Python 3 (ipykernel)",
   "language": "python",
   "name": "python3"
  },
  "language_info": {
   "codemirror_mode": {
    "name": "ipython",
    "version": 3
   },
   "file_extension": ".py",
   "mimetype": "text/x-python",
   "name": "python",
   "nbconvert_exporter": "python",
   "pygments_lexer": "ipython3",
   "version": "3.10.9"
  }
 },
 "nbformat": 4,
 "nbformat_minor": 5
}
